{
 "cells": [
  {
   "cell_type": "code",
   "execution_count": 48,
   "metadata": {},
   "outputs": [],
   "source": [
    "from sklearn.feature_extraction.text import CountVectorizer,TfidfVectorizer\n",
    "import re\n",
    "import nltk\n",
    "from nltk.corpus import stopwords\n",
    "from nltk.tokenize import word_tokenize\n",
    "from sklearn.cluster import KMeans\n",
    "from gensim.models import Word2Vec\n",
    "from nltk.stem import WordNetLemmatizer\n",
    "from sklearn.metrics.cluster import contingency_matrix\n",
    "import numpy as np"
   ]
  },
  {
   "cell_type": "code",
   "execution_count": 2,
   "metadata": {},
   "outputs": [
    {
     "name": "stderr",
     "output_type": "stream",
     "text": [
      "[nltk_data] Downloading package stopwords to\n",
      "[nltk_data]     C:\\Users\\Hp\\AppData\\Roaming\\nltk_data...\n",
      "[nltk_data]   Package stopwords is already up-to-date!\n"
     ]
    }
   ],
   "source": [
    "nltk.download('stopwords')\n",
    "stopWords = set(stopwords.words('english'))"
   ]
  },
  {
   "attachments": {},
   "cell_type": "markdown",
   "metadata": {},
   "source": [
    "# Reading Dataset"
   ]
  },
  {
   "cell_type": "code",
   "execution_count": 3,
   "metadata": {},
   "outputs": [
    {
     "name": "stdout",
     "output_type": "stream",
     "text": [
      "['101725', '102616', '103117', '103118', '103119', '103120', '103121', '103122', '103123', '103124', '20361', '20362', '20363', '20364', '20365', '20487', '20488', '20489', '20490', '20491', '52550', '52551', '52552', '52553', '52554', '52555', '52556', '52557', '52558', '52559', '57110', '58043', '58044', '58045', '58046', '58047', '58048', '58049', '58050', '58051', '64830', '64831', '66189', '66322', '66398', '66399', '66400', '66401', '66402', '66403']\n"
     ]
    }
   ],
   "source": [
    "import os\n",
    "directory = 'Doc50/'\n",
    "files = os.listdir(directory)\n",
    "print(files)"
   ]
  },
  {
   "attachments": {},
   "cell_type": "markdown",
   "metadata": {},
   "source": [
    "# PreProcessing"
   ]
  },
  {
   "cell_type": "code",
   "execution_count": 18,
   "metadata": {},
   "outputs": [],
   "source": [
    "REMOVABLE_PREFIXES = [\"Path:\",\"From:\",\"Newsgroups:\",\"Message-ID:\",\"Date:\",\"Sender:\",\"Lines:\",\"Approved:\"\n",
    "                     ,\"Expires:\",\"References\",\"In article\",\"--\",\"Xref:\",\"X-Newsreader:\"\n",
    "                     ,\"Nntp-Posting-Host:\",\"Distribution:\",\"Reply-To:\",\"Article-I.D.:\",\"Followup-To:\",\"Supersedes:\"\n",
    "                     ,\"Posted-Date:\",\"Posted:\",\"Re:\",\"In article\",\"In-reply-to:\",\"X-Newsreader:\",\"NNTP-Posting-Host:\",\"Originator:\"\n",
    "                     ,\"Distribution:\",\"Lines:\",\"Nntp-Posting-Host:\",\"X-Newsreader:\",\"Internet:\",\"UCCP:\"\n",
    "                     ,\"Article-ID:\",\"Bitnet:\",\"NewsFlash:\"]\n",
    "REPLACEABLE_TEXT = [\"\\n\",\"\\t\",\">\",\"[\",\"]\",\".\",\"|\",\"_\",\"\\\"\",\"\\\"\",\"\\'\",\"!\",\")\",\"(\",\"=\",\"?\",\"\\\\\",\"/\",\"~\",\"*\",\":\",\"-\",\",\",\"#\",\"&\"\n",
    "                  ,\"^\",\";\",\"{\",\"}\",\"<\",\">\",\"$\",\"+\",\"Subject:\",\"Re:\",\"Organization:\",\"Summary:\",\"Keywords:\",\"-\",\"_\",\".\"]\n",
    "EMAIL_PATTERN = r'\\S*@\\S*'\n",
    "lemmatizer = WordNetLemmatizer()"
   ]
  },
  {
   "cell_type": "code",
   "execution_count": 27,
   "metadata": {},
   "outputs": [],
   "source": [
    "dataset = []\n",
    "for file in files:\n",
    "    current = []\n",
    "    with open(directory + file, 'r') as f:\n",
    "        for line in f:\n",
    "            prefixed=False\n",
    "            for text in REMOVABLE_PREFIXES:\n",
    "                if re.search(text,line):\n",
    "                    prefixed=True\n",
    "                    break\n",
    "            for text in REPLACEABLE_TEXT:\n",
    "                line = line.replace(text,\"  \")\n",
    "            for text in stopWords:\n",
    "                line = line.replace(\" \"+text+\" \",\" \")\n",
    "            line = re.sub(EMAIL_PATTERN, '  ', line)\n",
    "            line = re.sub(r'\\d+',' ', line)\n",
    "            if not prefixed:\n",
    "                if line.strip() != '':\n",
    "                    line = line.strip()\n",
    "                    current.append(\" \".join(line.split()))\n",
    "    dataset.append(''.join(current))\n",
    "tokenizedDataset=[]\n",
    "for line in dataset:\n",
    "    tokens = word_tokenize(line)\n",
    "    lemmatizedTokens = [lemmatizer.lemmatize(token.lower()) for token in tokens]\n",
    "    tokenizedDataset.append(lemmatizedTokens)"
   ]
  },
  {
   "attachments": {},
   "cell_type": "markdown",
   "metadata": {},
   "source": [
    "# Baseline 1 => Term Frequency Features"
   ]
  },
  {
   "cell_type": "code",
   "execution_count": 34,
   "metadata": {},
   "outputs": [],
   "source": [
    "vectorizer = CountVectorizer(max_features=1000)\n",
    "TFMatrix = vectorizer.fit_transform(dataset)\n",
    "TFfeatureNames = vectorizer.get_feature_names()\n",
    "TFMatrixArray = TFMatrix.toarray()"
   ]
  },
  {
   "cell_type": "code",
   "execution_count": 35,
   "metadata": {},
   "outputs": [
    {
     "name": "stdout",
     "output_type": "stream",
     "text": [
      "[0 3 0 0 0 0 0 0 0 0 0 0 0 0 0 0 0 0 0 0 0 0 0 0 0 0 0 0 0 0 0 0 0 0 0 0 0\n",
      " 0 0 0 1 2 0 4 0 0 0 0 0 0]\n"
     ]
    }
   ],
   "source": [
    "TFkmeans = KMeans(n_clusters=5, random_state=42)\n",
    "TFkmeans.fit(TFMatrixArray)\n",
    "TFlabels = TFkmeans.labels_\n",
    "print(TFlabels)"
   ]
  },
  {
   "attachments": {},
   "cell_type": "markdown",
   "metadata": {},
   "source": [
    "# Baseline 2 => TF-IDF Features"
   ]
  },
  {
   "cell_type": "code",
   "execution_count": 24,
   "metadata": {},
   "outputs": [
    {
     "name": "stdout",
     "output_type": "stream",
     "text": [
      "(50, 277)\n"
     ]
    }
   ],
   "source": [
    "tfidf = TfidfVectorizer(min_df=0.1, max_df=0.8)\n",
    "tfidfMatrix = tfidf.fit_transform(dataset).toarray()\n",
    "ifidfFeatureNames = tfidf.get_feature_names()\n",
    "print(tfidfMatrix.shape)"
   ]
  },
  {
   "cell_type": "code",
   "execution_count": 38,
   "metadata": {},
   "outputs": [
    {
     "name": "stdout",
     "output_type": "stream",
     "text": [
      "[3 3 3 1 1 3 3 1 1 3 3 4 3 4 4 3 3 2 3 3 0 3 2 2 1 3 1 4 2 3 0 3 3 2 4 0 4\n",
      " 0 0 3 3 3 3 3 3 1 3 0 0 2]\n"
     ]
    }
   ],
   "source": [
    "tfidfkmeans = KMeans(n_clusters=5, random_state=42)\n",
    "tfidfkmeans.fit(tfidfMatrix)\n",
    "tfidfLabels = tfidfkmeans.labels_\n",
    "print(tfidfLabels)"
   ]
  },
  {
   "cell_type": "code",
   "execution_count": 44,
   "metadata": {},
   "outputs": [
    {
     "name": "stdout",
     "output_type": "stream",
     "text": [
      "[0 3 3 3 0 2 3 2 3 3 4 0 3 3 2 2 3 3 0 3 3 3 2 4 1 2 3 1 0 4 3 2 4 3 4 3 3\n",
      " 3 0 0 0 0 0 0 2 0 0 4 3 4]\n"
     ]
    }
   ],
   "source": [
    "model = Word2Vec(tokenizedDataset)\n",
    "# obtain document embeddings\n",
    "doc_embeddings = []\n",
    "for doc in dataset:\n",
    "    word_embeddings = [model.wv[word] for word in doc if word in model.wv.key_to_index]\n",
    "    if word_embeddings:\n",
    "        doc_embedding = np.mean(word_embeddings, axis=0)\n",
    "    else:\n",
    "        doc_embedding = np.zeros(model.vector_size)\n",
    "    doc_embeddings.append(doc_embedding)\n",
    "word2Veckmeans = KMeans(n_clusters=5, random_state=42)\n",
    "word2VecClusters = word2Veckmeans.fit_predict(doc_embeddings)\n",
    "word2VecLabels = word2Veckmeans.labels_\n",
    "print(word2VecLabels)"
   ]
  },
  {
   "cell_type": "code",
   "execution_count": 54,
   "metadata": {},
   "outputs": [],
   "source": [
    "GTdirectory = 'GT/'\n",
    "gtLabels = {}\n",
    "\n",
    "# iterate over files in GT directory\n",
    "for className in os.listdir(GTdirectory):\n",
    "    classDir = os.path.join(GTdirectory, className)\n",
    "    if os.path.isdir(classDir):\n",
    "        for filename in os.listdir(classDir):\n",
    "            sampleID = filename\n",
    "            gtLabels[sampleID] = className\n",
    "\n",
    "tfClusterLabels = {}\n",
    "tfidfClusterLabels = {}\n",
    "word2VecClusterLabels = {}\n",
    "for i in range(len(TFlabels)):\n",
    "    tfClusterLabels[files[i]] = \"C\"+str(TFlabels[i] + 1)\n",
    "for i in range(len(tfidfLabels)):\n",
    "    tfidfClusterLabels[files[i]] = \"C\"+str(tfidfLabels[i] + 1)\n",
    "for i in range(len(word2VecLabels)):\n",
    "    word2VecClusterLabels[files[i]] = \"C\"+str(word2VecLabels[i] + 1)\n",
    "\n",
    "\n"
   ]
  },
  {
   "cell_type": "code",
   "execution_count": 53,
   "metadata": {},
   "outputs": [],
   "source": [
    "def contingency(labels_true,labels_pred):\n",
    "    cm = contingency_matrix(labels_true, labels_pred)\n",
    "    n_samples = len(labels_true)\n",
    "    purity = 0\n",
    "    for i in range(cm.shape[0]):\n",
    "        purity += max(cm[i,:])\n",
    "    purity /= n_samples\n",
    "    return purity"
   ]
  },
  {
   "cell_type": "code",
   "execution_count": 52,
   "metadata": {},
   "outputs": [
    {
     "name": "stdout",
     "output_type": "stream",
     "text": [
      "Purity of TF Baseline = 0.920\n",
      "Purity of TF-IDF Baseline = 0.500\n",
      "Purity of Word2Vec Baseline = 0.500\n"
     ]
    }
   ],
   "source": [
    "labels_true = [gtLabels[sample_id] for sample_id in tfClusterLabels.keys()]\n",
    "labels_pred = list(tfClusterLabels.values())\n",
    "tfClusterPurity = contingency(labels_true,labels_pred)\n",
    "labels_true = [gtLabels[sample_id] for sample_id in tfidfClusterLabels.keys()]\n",
    "labels_pred = list(tfidfClusterLabels.values())\n",
    "tfidfClusterPurity = contingency(labels_true,labels_pred)\n",
    "labels_true = [gtLabels[sample_id] for sample_id in word2VecClusterLabels.keys()]\n",
    "labels_pred = list(word2VecClusterLabels.values())\n",
    "word2VecClusterPurity = contingency(labels_true,labels_pred)\n",
    "print('Purity of TF Baseline = {:.3f}'.format(tfClusterPurity))\n",
    "print('Purity of TF-IDF Baseline = {:.3f}'.format(tfidfClusterPurity))\n",
    "print('Purity of Word2Vec Baseline = {:.3f}'.format(word2VecClusterPurity))\n"
   ]
  }
 ],
 "metadata": {
  "kernelspec": {
   "display_name": "Python 3",
   "language": "python",
   "name": "python3"
  },
  "language_info": {
   "codemirror_mode": {
    "name": "ipython",
    "version": 3
   },
   "file_extension": ".py",
   "mimetype": "text/x-python",
   "name": "python",
   "nbconvert_exporter": "python",
   "pygments_lexer": "ipython3",
   "version": "3.9.7"
  },
  "orig_nbformat": 4
 },
 "nbformat": 4,
 "nbformat_minor": 2
}
